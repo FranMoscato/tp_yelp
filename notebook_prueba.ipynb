{
 "cells": [
  {
   "cell_type": "markdown",
   "id": "b9a3f3a3",
   "metadata": {},
   "source": [
    "### Importacion de librerias y seteo de semillas"
   ]
  },
  {
   "cell_type": "code",
   "execution_count": 55,
   "id": "40ba8c5d",
   "metadata": {},
   "outputs": [],
   "source": [
    "import json\n",
    "import os\n",
    "import pandas as pd\n",
    "import re, random, math, os\n",
    "from collections import Counter\n",
    "import numpy as np\n",
    "import torch\n",
    "import torch.nn as nn\n",
    "import torch.nn.functional as F\n",
    "from torch.utils.data import Dataset, DataLoader\n",
    "from torch.nn.utils.rnn import pack_padded_sequence\n",
    "from datasets import load_dataset\n",
    "from tqdm import tqdm\n",
    "\n",
    "from sklearn.model_selection import train_test_split #lo usamos porq nos separa con clases balanceadas"
   ]
  },
  {
   "cell_type": "code",
   "execution_count": 56,
   "id": "48a31342",
   "metadata": {},
   "outputs": [],
   "source": [
    "current_dir = \"C:\\\\Users\\\\mosca\\\\Documents\\\\Maestria\\\\Tercer_trimestre\\\\AA2\\\\TP_AA2\\\\tp_aa_2\""
   ]
  },
  {
   "cell_type": "code",
   "execution_count": 57,
   "id": "1d7568a1",
   "metadata": {},
   "outputs": [
    {
     "name": "stdout",
     "output_type": "stream",
     "text": [
      "True\n",
      "12.4\n",
      "NVIDIA GeForce RTX 3080 Ti Laptop GPU\n"
     ]
    }
   ],
   "source": [
    "print(torch.cuda.is_available())\n",
    "print(torch.version.cuda)\n",
    "print(torch.cuda.get_device_name(0))"
   ]
  },
  {
   "cell_type": "code",
   "execution_count": 58,
   "id": "793ca56a",
   "metadata": {},
   "outputs": [
    {
     "name": "stdout",
     "output_type": "stream",
     "text": [
      "Device: cuda\n"
     ]
    }
   ],
   "source": [
    "SEED = 42\n",
    "random.seed(SEED); np.random.seed(SEED); torch.manual_seed(SEED); torch.cuda.manual_seed_all(SEED)\n",
    "torch.backends.cudnn.deterministic = True\n",
    "device = torch.device(\"cuda\" if torch.cuda.is_available() else \"cpu\")\n",
    "print(\"Device:\", device)"
   ]
  },
  {
   "cell_type": "markdown",
   "id": "94a31e79",
   "metadata": {},
   "source": [
    "### Importamos la data"
   ]
  },
  {
   "cell_type": "code",
   "execution_count": null,
   "id": "6e2f6baa",
   "metadata": {},
   "outputs": [],
   "source": [
    "def cargar_reviews(current_dir,nombre_archivo=\"yelp_academic_dataset_review.json\"):\n",
    "\n",
    "    \"\"\"\n",
    "    Carga un archivo de reseñas JSON y devuelve un df de pandas.\n",
    "    \"\"\"\n",
    "    path = os.path.join(current_dir, \"yelp_dataset\", nombre_archivo)\n",
    "    print(f\"Leyendo archivo desde: {path}\")\n",
    "\n",
    "        \n",
    "    reviews = []\n",
    "    _word_re = re.compile(r\"[A-Za-z0-9]+\", re.UNICODE)\n",
    "    with open(path, 'r', encoding='utf-8') as f:\n",
    "        for i, line in enumerate(f):\n",
    "\n",
    "            # ### Solo para empezar a trabajar la data\n",
    "            # if i >= 100:   # detener después de 'limit' líneas\n",
    "            #     break\n",
    "\n",
    "            line = line.strip()\n",
    "            if line:  # ignora líneas vacías\n",
    "                dicc=json.loads(line)\n",
    "                \n",
    "                #para evitar tener reviews vacias\n",
    "                if len(_word_re.findall(dicc['text'])) == 0: \n",
    "                    continue\n",
    "\n",
    "                # nos quedamos con la data que queremos\n",
    "                for key in ['review_id','funny','cool','useful','date']:\n",
    "                    del dicc[f'{key}']\n",
    "                reviews.append(dicc)\n",
    "    \n",
    "    print(f\"Se cargaron {len(reviews)} reseñas desde {path}\")\n",
    "\n",
    "\n",
    "    rv_df = pd.DataFrame(reviews)\n",
    "    # Convertir stars a int\n",
    "    rv_df[\"stars\"] = rv_df[\"stars\"].astype(int)\n",
    "    # Restar 1 para que queden entre 0 y 4\n",
    "    rv_df[\"stars\"] = rv_df[\"stars\"] - 1\n",
    "\n",
    "    return rv_df"
   ]
  },
  {
   "cell_type": "code",
   "execution_count": 60,
   "id": "b4965c61",
   "metadata": {},
   "outputs": [
    {
     "name": "stdout",
     "output_type": "stream",
     "text": [
      "Leyendo archivo desde: C:\\Users\\mosca\\Documents\\Maestria\\Tercer_trimestre\\AA2\\TP_AA2\\tp_aa_2\\yelp_dataset\\yelp_academic_dataset_review.json\n",
      "Se cargaron 6990099 reseñas desde C:\\Users\\mosca\\Documents\\Maestria\\Tercer_trimestre\\AA2\\TP_AA2\\tp_aa_2\\yelp_dataset\\yelp_academic_dataset_review.json\n"
     ]
    },
    {
     "data": {
      "text/html": [
       "<div>\n",
       "<style scoped>\n",
       "    .dataframe tbody tr th:only-of-type {\n",
       "        vertical-align: middle;\n",
       "    }\n",
       "\n",
       "    .dataframe tbody tr th {\n",
       "        vertical-align: top;\n",
       "    }\n",
       "\n",
       "    .dataframe thead th {\n",
       "        text-align: right;\n",
       "    }\n",
       "</style>\n",
       "<table border=\"1\" class=\"dataframe\">\n",
       "  <thead>\n",
       "    <tr style=\"text-align: right;\">\n",
       "      <th></th>\n",
       "      <th>user_id</th>\n",
       "      <th>business_id</th>\n",
       "      <th>stars</th>\n",
       "      <th>text</th>\n",
       "    </tr>\n",
       "  </thead>\n",
       "  <tbody>\n",
       "    <tr>\n",
       "      <th>0</th>\n",
       "      <td>mh_-eMZ6K5RLWhZyISBhwA</td>\n",
       "      <td>XQfwVwDr-v0ZS3_CbbE5Xw</td>\n",
       "      <td>2</td>\n",
       "      <td>If you decide to eat here, just be aware it is...</td>\n",
       "    </tr>\n",
       "    <tr>\n",
       "      <th>1</th>\n",
       "      <td>OyoGAe7OKpv6SyGZT5g77Q</td>\n",
       "      <td>7ATYjTIgM3jUlt4UM3IypQ</td>\n",
       "      <td>4</td>\n",
       "      <td>I've taken a lot of spin classes over the year...</td>\n",
       "    </tr>\n",
       "    <tr>\n",
       "      <th>2</th>\n",
       "      <td>8g_iMtfSiwikVnbP2etR0A</td>\n",
       "      <td>YjUWPpI6HXG530lwP-fb2A</td>\n",
       "      <td>2</td>\n",
       "      <td>Family diner. Had the buffet. Eclectic assortm...</td>\n",
       "    </tr>\n",
       "    <tr>\n",
       "      <th>3</th>\n",
       "      <td>_7bHUi9Uuf5__HHc_Q8guQ</td>\n",
       "      <td>kxX2SOes4o-D3ZQBkiMRfA</td>\n",
       "      <td>4</td>\n",
       "      <td>Wow!  Yummy, different,  delicious.   Our favo...</td>\n",
       "    </tr>\n",
       "    <tr>\n",
       "      <th>4</th>\n",
       "      <td>bcjbaE6dDog4jkNY91ncLQ</td>\n",
       "      <td>e4Vwtrqf-wpJfwesgvdgxQ</td>\n",
       "      <td>3</td>\n",
       "      <td>Cute interior and owner (?) gave us tour of up...</td>\n",
       "    </tr>\n",
       "  </tbody>\n",
       "</table>\n",
       "</div>"
      ],
      "text/plain": [
       "                  user_id             business_id  stars  \\\n",
       "0  mh_-eMZ6K5RLWhZyISBhwA  XQfwVwDr-v0ZS3_CbbE5Xw      2   \n",
       "1  OyoGAe7OKpv6SyGZT5g77Q  7ATYjTIgM3jUlt4UM3IypQ      4   \n",
       "2  8g_iMtfSiwikVnbP2etR0A  YjUWPpI6HXG530lwP-fb2A      2   \n",
       "3  _7bHUi9Uuf5__HHc_Q8guQ  kxX2SOes4o-D3ZQBkiMRfA      4   \n",
       "4  bcjbaE6dDog4jkNY91ncLQ  e4Vwtrqf-wpJfwesgvdgxQ      3   \n",
       "\n",
       "                                                text  \n",
       "0  If you decide to eat here, just be aware it is...  \n",
       "1  I've taken a lot of spin classes over the year...  \n",
       "2  Family diner. Had the buffet. Eclectic assortm...  \n",
       "3  Wow!  Yummy, different,  delicious.   Our favo...  \n",
       "4  Cute interior and owner (?) gave us tour of up...  "
      ]
     },
     "execution_count": 60,
     "metadata": {},
     "output_type": "execute_result"
    }
   ],
   "source": [
    "reviews=cargar_reviews(current_dir)\n",
    "reviews.head()"
   ]
  },
  {
   "cell_type": "code",
   "execution_count": 61,
   "id": "37763990",
   "metadata": {},
   "outputs": [],
   "source": [
    "# Hiperparámetros principales\n",
    "BATCH_SIZE   = 64\n",
    "NUM_EPOCHS   = 4\n",
    "EMBED_DIM    = 100\n",
    "HIDDEN_DIM   = 128\n",
    "NUM_LAYERS   = 1\n",
    "BIDIR        = False\n",
    "DROPOUT      = 0.2\n",
    "MIN_FREQ     = 5           # palabras con freq < MIN_FREQ se mapean a <unk> (supongo q es una balabra rara)\n",
    "MAX_LEN      = 200         # truncado/padding por secuencia\n",
    "LR           = 1e-3\n",
    "NUM_CLASSES = 5"
   ]
  },
  {
   "cell_type": "markdown",
   "id": "d0dafdf2",
   "metadata": {},
   "source": [
    "### Empezamso a preparar la data"
   ]
  },
  {
   "cell_type": "code",
   "execution_count": 62,
   "id": "5690e030",
   "metadata": {},
   "outputs": [],
   "source": [
    "\n",
    "X = reviews[\"text\"] \n",
    "y = reviews[\"stars\"]\n",
    "\n",
    "X_train, X_test, y_train, y_test = train_test_split(\n",
    "    X, y,\n",
    "    test_size=0.2,\n",
    "    random_state=42,\n",
    "    stratify=y  #proporción de clases parejo\n",
    ")\n",
    "\n",
    "train_df = pd.DataFrame({\n",
    "    \"text\": X_train,\n",
    "    \"stars\": y_train\n",
    "})\n",
    "\n",
    "test_df = pd.DataFrame({\n",
    "    \"text\": X_test,\n",
    "    \"stars\": y_test\n",
    "})\n",
    "\n",
    "train_ds = train_df.to_dict(orient=\"records\")\n",
    "test_ds = test_df.to_dict(orient=\"records\")\n"
   ]
  },
  {
   "cell_type": "code",
   "execution_count": 63,
   "id": "b81a3926",
   "metadata": {},
   "outputs": [
    {
     "name": "stdout",
     "output_type": "stream",
     "text": [
      "Vocab size: 144022\n"
     ]
    }
   ],
   "source": [
    "# Tokenización simple por palabras, lowercase, sin signos\n",
    "_word_re = re.compile(r\"\\b\\w+\\b\", re.UNICODE)\n",
    "def tokenize(text: str):\n",
    "    return _word_re.findall(text.lower())\n",
    "\n",
    "\n",
    "# Construcción de vocab a partir del split de train -> me cuenta las veces que aparece cada palabra el counter\n",
    "counter = Counter()\n",
    "for ex in train_ds:\n",
    "    counter.update(tokenize(ex[\"text\"]))\n",
    "\n",
    "# aca creo una lista con todas als apalabras que superan la freciuencia minima y la enumero en stoi\n",
    "specials = [\"<pad>\", \"<unk>\"]\n",
    "itos = specials + [tok for tok, c in counter.items() if c >= MIN_FREQ]\n",
    "stoi = {tok: i for i, tok in enumerate(itos)}\n",
    "PAD_IDX = stoi[\"<pad>\"]\n",
    "UNK_IDX = stoi[\"<unk>\"] # LO QUE SE MAPEA LO Q NO SE VIO NUNCA\n",
    "print(\"Vocab size:\", len(itos))\n",
    "\n",
    "\n",
    "\n",
    "#funcion que me pasa un texto a su traduccion en IDs\n",
    "def text_to_ids(text: str):\n",
    "    ids = [stoi.get(tok, UNK_IDX) for tok in tokenize(text)]\n",
    "    # truncado a MAX_LEN\n",
    "    if len(ids) > MAX_LEN:\n",
    "        ids = ids[:MAX_LEN]\n",
    "    return torch.tensor(ids, dtype=torch.long)"
   ]
  },
  {
   "cell_type": "code",
   "execution_count": 64,
   "id": "70775d70",
   "metadata": {},
   "outputs": [],
   "source": [
    "# --------------------------\n",
    "# 3) Dataset y collate_fn\n",
    "# --------------------------\n",
    "class NewsDataset(Dataset):\n",
    "    def __init__(self, hf_split):\n",
    "        self.data = hf_split\n",
    "\n",
    "    def __len__(self):\n",
    "        return len(self.data)\n",
    "\n",
    "    def __getitem__(self, idx):\n",
    "        ex = self.data[int(idx)]\n",
    "        label = int(ex[\"stars\"])    #Lo modificamos asi agarra la cantidad de estrellas\n",
    "        text_ids = text_to_ids(ex[\"text\"])\n",
    "        return text_ids, label\n",
    "\n",
    "def collate_fn(batch):\n",
    "    # batch: lista de (tensor_ids, label_int)\n",
    "    seqs, labels = zip(*batch)\n",
    "    lengths = torch.tensor([len(s) for s in seqs], dtype=torch.long)\n",
    "    \n",
    "\n",
    "    # padding a la derecha hasta MAX_LEN\n",
    "    padded = nn.utils.rnn.pad_sequence(seqs, batch_first=True, padding_value=PAD_IDX)\n",
    "    if padded.size(1) < MAX_LEN:\n",
    "        pad_extra = torch.full((padded.size(0), MAX_LEN - padded.size(1)), PAD_IDX, dtype=torch.long)\n",
    "        padded = torch.cat([padded, pad_extra], dim=1)\n",
    "    elif padded.size(1) > MAX_LEN:\n",
    "        padded = padded[:, :MAX_LEN]\n",
    "        lengths = torch.clamp(lengths, max=MAX_LEN)\n",
    "\n",
    "    y = torch.tensor(labels, dtype=torch.long)\n",
    "    return padded, lengths, y\n",
    "\n",
    "train_loader = DataLoader(NewsDataset(train_ds), batch_size=BATCH_SIZE, shuffle=True,  collate_fn=collate_fn)\n",
    "test_loader  = DataLoader(NewsDataset(test_ds),  batch_size=BATCH_SIZE, shuffle=False, collate_fn=collate_fn)"
   ]
  },
  {
   "cell_type": "code",
   "execution_count": 65,
   "id": "63fd2191",
   "metadata": {},
   "outputs": [],
   "source": [
    "class LSTMClassifier(nn.Module):\n",
    "    def __init__(self, vocab_size, embed_dim, hidden_dim, num_classes,\n",
    "                 num_layers=1, bidirectional=False, dropout=0.0, pad_idx=None):\n",
    "        super().__init__()\n",
    "        self.embedding = nn.Embedding(vocab_size, embed_dim, padding_idx=pad_idx)\n",
    "        self.lstm = nn.LSTM(\n",
    "            input_size=embed_dim,\n",
    "            hidden_size=hidden_dim,\n",
    "            num_layers=num_layers,\n",
    "            batch_first=True,\n",
    "            bidirectional=bidirectional,\n",
    "            dropout=dropout if num_layers > 1 else 0.0\n",
    "        )\n",
    "        out_dim = hidden_dim * (2 if bidirectional else 1)\n",
    "        self.fc = nn.Linear(out_dim, num_classes)\n",
    "\n",
    "        # Inicialización estable\n",
    "        nn.init.xavier_uniform_(self.embedding.weight)\n",
    "        with torch.no_grad():\n",
    "            if pad_idx is not None:\n",
    "                self.embedding.weight[pad_idx].fill_(0)\n",
    "\n",
    "    def forward(self, x, lengths):\n",
    "        # x: [B, T], lengths: [B]\n",
    "        emb = self.embedding(x)  # [B, T, E]\n",
    "        packed = pack_padded_sequence(emb, lengths.cpu(), batch_first=True, enforce_sorted=False)\n",
    "        _, (h_n, _) = self.lstm(packed)  # h_n: [L*(2 if bi), B, H]\n",
    "\n",
    "        if self.lstm.bidirectional:\n",
    "            last_hidden = torch.cat((h_n[-2], h_n[-1]), dim=1)  # [B, 2H]\n",
    "        else:\n",
    "            last_hidden = h_n[-1]  # [B, H]\n",
    "\n",
    "        logits = self.fc(last_hidden)  # [B, C]\n",
    "        return logits\n",
    "\n",
    "model = LSTMClassifier(\n",
    "    vocab_size=len(itos),\n",
    "    embed_dim=EMBED_DIM,\n",
    "    hidden_dim=HIDDEN_DIM,\n",
    "    num_classes=NUM_CLASSES,\n",
    "    num_layers=NUM_LAYERS,\n",
    "    bidirectional=BIDIR,\n",
    "    dropout=DROPOUT,\n",
    "    pad_idx=PAD_IDX\n",
    ").to(device)\n",
    "\n",
    "criterion = nn.CrossEntropyLoss()\n",
    "optimizer = torch.optim.Adam(model.parameters(), lr=LR)"
   ]
  },
  {
   "cell_type": "code",
   "execution_count": 66,
   "id": "8474f269",
   "metadata": {},
   "outputs": [
    {
     "name": "stdout",
     "output_type": "stream",
     "text": [
      "Epoch [1/4]\n"
     ]
    },
    {
     "name": "stderr",
     "output_type": "stream",
     "text": [
      "Epoch 0/4:  12%|█▏        | 10594/87377 [03:44<27:08, 47.14it/s, loss=0.546]\n"
     ]
    },
    {
     "ename": "KeyboardInterrupt",
     "evalue": "",
     "output_type": "error",
     "traceback": [
      "\u001b[31m---------------------------------------------------------------------------\u001b[39m",
      "\u001b[31mKeyboardInterrupt\u001b[39m                         Traceback (most recent call last)",
      "\u001b[36mCell\u001b[39m\u001b[36m \u001b[39m\u001b[32mIn[66]\u001b[39m\u001b[32m, line 21\u001b[39m\n\u001b[32m     19\u001b[39m logits = model(X, lengths)\n\u001b[32m     20\u001b[39m loss = criterion(logits, y)\n\u001b[32m---> \u001b[39m\u001b[32m21\u001b[39m \u001b[43mloss\u001b[49m\u001b[43m.\u001b[49m\u001b[43mbackward\u001b[49m\u001b[43m(\u001b[49m\u001b[43m)\u001b[49m\n\u001b[32m     22\u001b[39m optimizer.step()\n\u001b[32m     23\u001b[39m loop.set_postfix(loss=loss.item())\n",
      "\u001b[36mFile \u001b[39m\u001b[32mc:\\Users\\mosca\\AppData\\Local\\Programs\\Python\\Python312\\Lib\\site-packages\\torch\\_tensor.py:626\u001b[39m, in \u001b[36mTensor.backward\u001b[39m\u001b[34m(self, gradient, retain_graph, create_graph, inputs)\u001b[39m\n\u001b[32m    616\u001b[39m \u001b[38;5;28;01mif\u001b[39;00m has_torch_function_unary(\u001b[38;5;28mself\u001b[39m):\n\u001b[32m    617\u001b[39m     \u001b[38;5;28;01mreturn\u001b[39;00m handle_torch_function(\n\u001b[32m    618\u001b[39m         Tensor.backward,\n\u001b[32m    619\u001b[39m         (\u001b[38;5;28mself\u001b[39m,),\n\u001b[32m   (...)\u001b[39m\u001b[32m    624\u001b[39m         inputs=inputs,\n\u001b[32m    625\u001b[39m     )\n\u001b[32m--> \u001b[39m\u001b[32m626\u001b[39m \u001b[43mtorch\u001b[49m\u001b[43m.\u001b[49m\u001b[43mautograd\u001b[49m\u001b[43m.\u001b[49m\u001b[43mbackward\u001b[49m\u001b[43m(\u001b[49m\n\u001b[32m    627\u001b[39m \u001b[43m    \u001b[49m\u001b[38;5;28;43mself\u001b[39;49m\u001b[43m,\u001b[49m\u001b[43m \u001b[49m\u001b[43mgradient\u001b[49m\u001b[43m,\u001b[49m\u001b[43m \u001b[49m\u001b[43mretain_graph\u001b[49m\u001b[43m,\u001b[49m\u001b[43m \u001b[49m\u001b[43mcreate_graph\u001b[49m\u001b[43m,\u001b[49m\u001b[43m \u001b[49m\u001b[43minputs\u001b[49m\u001b[43m=\u001b[49m\u001b[43minputs\u001b[49m\n\u001b[32m    628\u001b[39m \u001b[43m\u001b[49m\u001b[43m)\u001b[49m\n",
      "\u001b[36mFile \u001b[39m\u001b[32mc:\\Users\\mosca\\AppData\\Local\\Programs\\Python\\Python312\\Lib\\site-packages\\torch\\autograd\\__init__.py:347\u001b[39m, in \u001b[36mbackward\u001b[39m\u001b[34m(tensors, grad_tensors, retain_graph, create_graph, grad_variables, inputs)\u001b[39m\n\u001b[32m    342\u001b[39m     retain_graph = create_graph\n\u001b[32m    344\u001b[39m \u001b[38;5;66;03m# The reason we repeat the same comment below is that\u001b[39;00m\n\u001b[32m    345\u001b[39m \u001b[38;5;66;03m# some Python versions print out the first line of a multi-line function\u001b[39;00m\n\u001b[32m    346\u001b[39m \u001b[38;5;66;03m# calls in the traceback and some print out the last line\u001b[39;00m\n\u001b[32m--> \u001b[39m\u001b[32m347\u001b[39m \u001b[43m_engine_run_backward\u001b[49m\u001b[43m(\u001b[49m\n\u001b[32m    348\u001b[39m \u001b[43m    \u001b[49m\u001b[43mtensors\u001b[49m\u001b[43m,\u001b[49m\n\u001b[32m    349\u001b[39m \u001b[43m    \u001b[49m\u001b[43mgrad_tensors_\u001b[49m\u001b[43m,\u001b[49m\n\u001b[32m    350\u001b[39m \u001b[43m    \u001b[49m\u001b[43mretain_graph\u001b[49m\u001b[43m,\u001b[49m\n\u001b[32m    351\u001b[39m \u001b[43m    \u001b[49m\u001b[43mcreate_graph\u001b[49m\u001b[43m,\u001b[49m\n\u001b[32m    352\u001b[39m \u001b[43m    \u001b[49m\u001b[43minputs\u001b[49m\u001b[43m,\u001b[49m\n\u001b[32m    353\u001b[39m \u001b[43m    \u001b[49m\u001b[43mallow_unreachable\u001b[49m\u001b[43m=\u001b[49m\u001b[38;5;28;43;01mTrue\u001b[39;49;00m\u001b[43m,\u001b[49m\n\u001b[32m    354\u001b[39m \u001b[43m    \u001b[49m\u001b[43maccumulate_grad\u001b[49m\u001b[43m=\u001b[49m\u001b[38;5;28;43;01mTrue\u001b[39;49;00m\u001b[43m,\u001b[49m\n\u001b[32m    355\u001b[39m \u001b[43m\u001b[49m\u001b[43m)\u001b[49m\n",
      "\u001b[36mFile \u001b[39m\u001b[32mc:\\Users\\mosca\\AppData\\Local\\Programs\\Python\\Python312\\Lib\\site-packages\\torch\\autograd\\graph.py:823\u001b[39m, in \u001b[36m_engine_run_backward\u001b[39m\u001b[34m(t_outputs, *args, **kwargs)\u001b[39m\n\u001b[32m    821\u001b[39m     unregister_hooks = _register_logging_hooks_on_whole_graph(t_outputs)\n\u001b[32m    822\u001b[39m \u001b[38;5;28;01mtry\u001b[39;00m:\n\u001b[32m--> \u001b[39m\u001b[32m823\u001b[39m     \u001b[38;5;28;01mreturn\u001b[39;00m \u001b[43mVariable\u001b[49m\u001b[43m.\u001b[49m\u001b[43m_execution_engine\u001b[49m\u001b[43m.\u001b[49m\u001b[43mrun_backward\u001b[49m\u001b[43m(\u001b[49m\u001b[43m  \u001b[49m\u001b[38;5;66;43;03m# Calls into the C++ engine to run the backward pass\u001b[39;49;00m\n\u001b[32m    824\u001b[39m \u001b[43m        \u001b[49m\u001b[43mt_outputs\u001b[49m\u001b[43m,\u001b[49m\u001b[43m \u001b[49m\u001b[43m*\u001b[49m\u001b[43margs\u001b[49m\u001b[43m,\u001b[49m\u001b[43m \u001b[49m\u001b[43m*\u001b[49m\u001b[43m*\u001b[49m\u001b[43mkwargs\u001b[49m\n\u001b[32m    825\u001b[39m \u001b[43m    \u001b[49m\u001b[43m)\u001b[49m  \u001b[38;5;66;03m# Calls into the C++ engine to run the backward pass\u001b[39;00m\n\u001b[32m    826\u001b[39m \u001b[38;5;28;01mfinally\u001b[39;00m:\n\u001b[32m    827\u001b[39m     \u001b[38;5;28;01mif\u001b[39;00m attach_logging_hooks:\n",
      "\u001b[31mKeyboardInterrupt\u001b[39m: "
     ]
    }
   ],
   "source": [
    "# --------------------------\n",
    "# 5) Entrenamiento\n",
    "# --------------------------\n",
    "\n",
    "\n",
    "train_accuracies_epoch=[]\n",
    "test_accuracies_epoch=[]\n",
    "\n",
    "\n",
    "for epoch in range(NUM_EPOCHS):\n",
    "    print(f\"Epoch [{epoch + 1}/{NUM_EPOCHS}]\")\n",
    "    loop = tqdm(train_loader, total=len(train_loader), desc=f\"Epoch {epoch}/{NUM_EPOCHS}\")\n",
    "\n",
    "    correct = 0\n",
    "    total = 0\n",
    "    for X, lengths, y in loop:\n",
    "        X, lengths, y = X.to(device), lengths.to(device), y.to(device)\n",
    "        optimizer.zero_grad()\n",
    "        logits = model(X, lengths)\n",
    "        loss = criterion(logits, y)\n",
    "        loss.backward()\n",
    "        optimizer.step()\n",
    "        loop.set_postfix(loss=loss.item())\n",
    "\n",
    "        # Accuracy batch\n",
    "        preds = logits.argmax(dim=1)\n",
    "        correct += (preds == y).sum().item()\n",
    "        total += y.size(0)\n",
    "    \n",
    "    epoch_acc = correct / total\n",
    "    train_accuracies_epoch.append(epoch_acc)\n",
    "\n",
    "\n",
    "    model.eval()\n",
    "\n",
    "    correct = 0\n",
    "    total = 0\n",
    "\n",
    "    with torch.no_grad():\n",
    "        for X, lengths, y in test_loader:\n",
    "            X, lengths, y = X.to(device), lengths.to(device), y.to(device)\n",
    "            logits = model(X, lengths)\n",
    "            loss = criterion(logits, y)\n",
    "\n",
    "            preds = logits.argmax(dim=1)\n",
    "            correct += (preds == y).sum().item()\n",
    "            total += y.size(0)\n",
    "\n",
    "    val_acc = correct / total\n",
    "    test_accuracies_epoch.append(val_acc)\n",
    "    model.train()"
   ]
  },
  {
   "cell_type": "code",
   "execution_count": null,
   "id": "7a647ef0",
   "metadata": {},
   "outputs": [
    {
     "name": "stdout",
     "output_type": "stream",
     "text": [
      "Train accuracy: 48.75%\n",
      "Test  accuracy: 50.00%\n"
     ]
    }
   ],
   "source": [
    "# --------------------------\n",
    "# 6) Evaluación\n",
    "# --------------------------\n",
    "def check_accuracy(loader, model):\n",
    "    model.eval()\n",
    "    correct, total = 0, 0\n",
    "    with torch.no_grad():\n",
    "        for X, lengths, y in loader:\n",
    "            X, lengths, y = X.to(device), lengths.to(device), y.to(device)\n",
    "            logits = model(X, lengths)\n",
    "            preds = logits.argmax(dim=1)\n",
    "            correct += (preds == y).sum().item()\n",
    "            total   += y.size(0)\n",
    "    acc = 100.0 * correct / total\n",
    "    model.train()\n",
    "    return acc\n",
    "train_acc = check_accuracy(train_loader, model)\n",
    "test_acc  = check_accuracy(test_loader, model)\n",
    "\n",
    "\n",
    "print(f\"Train accuracy: {train_acc:.2f}%\")\n",
    "print(f\"Test  accuracy: {test_acc:.2f}%\")"
   ]
  },
  {
   "cell_type": "code",
   "execution_count": null,
   "id": "744bcaa2",
   "metadata": {},
   "outputs": [
    {
     "data": {
      "image/png": "[encoded data removed]",
      "text/plain": [
       "<Figure size 3500x500 with 1 Axes>"
      ]
     },
     "metadata": {},
     "output_type": "display_data"
    }
   ],
   "source": [
    "import matplotlib.pyplot as plt\n",
    "\n",
    "plt.figure(figsize=(35,5))\n",
    "\n",
    "\n",
    "# Accuracy\n",
    "plt.subplot(1,2,2)\n",
    "plt.plot(train_accuracies_epoch, label='Train Acc')\n",
    "plt.plot(test_accuracies_epoch, label='Test Acc')\n",
    "plt.xlabel('Epoch')\n",
    "plt.ylabel('Accuracy')\n",
    "plt.title('Learning Curve - Accuracy')\n",
    "plt.legend()\n",
    "\n",
    "plt.show()"
   ]
  }
 ],
 "metadata": {
  "kernelspec": {
   "display_name": "Python 3",
   "language": "python",
   "name": "python3"
  },
  "language_info": {
   "codemirror_mode": {
    "name": "ipython",
    "version": 3
   },
   "file_extension": ".py",
   "mimetype": "text/x-python",
   "name": "python",
   "nbconvert_exporter": "python",
   "pygments_lexer": "ipython3",
   "version": "3.12.10"
  }
 },
 "nbformat": 4,
 "nbformat_minor": 5
}
